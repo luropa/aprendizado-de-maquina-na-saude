{
  "cells": [
    {
      "cell_type": "code",
      "source": [
        "import pandas as pd\n",
        "\n",
        "# Carregar o arquivo CSV\n",
        "cancer = pd.read_csv('cancer_data.csv')\n",
        "\n",
        "# Verificar as primeiras linhas dos dados\n",
        "print(cancer.head())\n",
        "\n",
        "# Verificar a estrutura das colunas\n",
        "print(cancer.info())\n"
      ],
      "metadata": {
        "colab": {
          "base_uri": "https://localhost:8080/"
        },
        "id": "2OOlRNOk9bqF",
        "outputId": "245404f6-bb27-487d-f1f6-c88c7ebeaf70"
      },
      "execution_count": 52,
      "outputs": [
        {
          "output_type": "stream",
          "name": "stdout",
          "text": [
            "   inst  time  status  age  sex  ph.ecog  ph.karno  pat.karno  meal.cal  \\\n",
            "0   3.0   306       2   74    1      1.0      90.0      100.0    1175.0   \n",
            "1   3.0   455       2   68    1      0.0      90.0       90.0    1225.0   \n",
            "2   3.0  1010       1   56    1      0.0      90.0       90.0       NaN   \n",
            "3   5.0   210       2   57    1      1.0      90.0       60.0    1150.0   \n",
            "4   1.0   883       2   60    1      0.0     100.0       90.0       NaN   \n",
            "\n",
            "   wt.loss  \n",
            "0      NaN  \n",
            "1     15.0  \n",
            "2     15.0  \n",
            "3     11.0  \n",
            "4      0.0  \n",
            "<class 'pandas.core.frame.DataFrame'>\n",
            "RangeIndex: 228 entries, 0 to 227\n",
            "Data columns (total 10 columns):\n",
            " #   Column     Non-Null Count  Dtype  \n",
            "---  ------     --------------  -----  \n",
            " 0   inst       227 non-null    float64\n",
            " 1   time       228 non-null    int64  \n",
            " 2   status     228 non-null    int64  \n",
            " 3   age        228 non-null    int64  \n",
            " 4   sex        228 non-null    int64  \n",
            " 5   ph.ecog    227 non-null    float64\n",
            " 6   ph.karno   227 non-null    float64\n",
            " 7   pat.karno  225 non-null    float64\n",
            " 8   meal.cal   181 non-null    float64\n",
            " 9   wt.loss    214 non-null    float64\n",
            "dtypes: float64(6), int64(4)\n",
            "memory usage: 17.9 KB\n",
            "None\n"
          ]
        }
      ]
    },
    {
      "cell_type": "code",
      "source": [
        "# Resumo das variáveis numéricas\n",
        "print(cancer[['time', 'age', 'meal.cal', 'wt.loss']].describe())\n"
      ],
      "metadata": {
        "colab": {
          "base_uri": "https://localhost:8080/"
        },
        "id": "foycWm9G-HrP",
        "outputId": "5990b6c7-d948-48d4-f20d-ec1f67d623ed"
      },
      "execution_count": 53,
      "outputs": [
        {
          "output_type": "stream",
          "name": "stdout",
          "text": [
            "              time         age     meal.cal     wt.loss\n",
            "count   228.000000  228.000000   181.000000  214.000000\n",
            "mean    305.232456   62.447368   928.779006    9.831776\n",
            "std     210.645543    9.073457   402.174707   13.139902\n",
            "min       5.000000   39.000000    96.000000  -24.000000\n",
            "25%     166.750000   56.000000   635.000000    0.000000\n",
            "50%     255.500000   63.000000   975.000000    7.000000\n",
            "75%     396.500000   69.000000  1150.000000   15.750000\n",
            "max    1022.000000   82.000000  2600.000000   68.000000\n"
          ]
        }
      ]
    },
    {
      "cell_type": "code",
      "source": [
        "# Resumo das variáveis categóricas\n",
        "print(cancer['sex'].value_counts())\n",
        "print(cancer['status'].value_counts())\n"
      ],
      "metadata": {
        "colab": {
          "base_uri": "https://localhost:8080/"
        },
        "id": "JsIO3SyA-LOE",
        "outputId": "553e790c-163c-4611-a2da-2420828871a5"
      },
      "execution_count": 60,
      "outputs": [
        {
          "output_type": "stream",
          "name": "stdout",
          "text": [
            "sex\n",
            "1    138\n",
            "2     90\n",
            "Name: count, dtype: int64\n",
            "status\n",
            "2    165\n",
            "1     63\n",
            "Name: count, dtype: int64\n"
          ]
        }
      ]
    },
    {
      "cell_type": "code",
      "source": [
        "# Remover valores ausentes\n",
        "cancer = cancer.dropna()\n"
      ],
      "metadata": {
        "id": "9f9MwjU5-bM7"
      },
      "execution_count": 66,
      "outputs": []
    },
    {
      "cell_type": "code",
      "source": [
        "pip install lifelines\n"
      ],
      "metadata": {
        "colab": {
          "base_uri": "https://localhost:8080/"
        },
        "id": "ynbj_nej-rCG",
        "outputId": "13953c1f-4b00-4ce3-99be-b14ef0efc1c6"
      },
      "execution_count": 71,
      "outputs": [
        {
          "output_type": "stream",
          "name": "stdout",
          "text": [
            "Collecting lifelines\n",
            "  Using cached lifelines-0.30.0-py3-none-any.whl.metadata (3.2 kB)\n",
            "Requirement already satisfied: numpy>=1.14.0 in /usr/local/lib/python3.10/dist-packages (from lifelines) (1.26.4)\n",
            "Requirement already satisfied: scipy>=1.7.0 in /usr/local/lib/python3.10/dist-packages (from lifelines) (1.13.1)\n",
            "Requirement already satisfied: pandas>=2.1 in /usr/local/lib/python3.10/dist-packages (from lifelines) (2.2.2)\n",
            "Requirement already satisfied: matplotlib>=3.0 in /usr/local/lib/python3.10/dist-packages (from lifelines) (3.8.0)\n",
            "Requirement already satisfied: autograd>=1.5 in /usr/local/lib/python3.10/dist-packages (from lifelines) (1.7.0)\n",
            "Collecting autograd-gamma>=0.3 (from lifelines)\n",
            "  Using cached autograd_gamma-0.5.0-py3-none-any.whl\n",
            "Collecting formulaic>=0.2.2 (from lifelines)\n",
            "  Using cached formulaic-1.0.2-py3-none-any.whl.metadata (6.8 kB)\n",
            "Collecting interface-meta>=1.2.0 (from formulaic>=0.2.2->lifelines)\n",
            "  Using cached interface_meta-1.3.0-py3-none-any.whl.metadata (6.7 kB)\n",
            "Requirement already satisfied: typing-extensions>=4.2.0 in /usr/local/lib/python3.10/dist-packages (from formulaic>=0.2.2->lifelines) (4.12.2)\n",
            "Requirement already satisfied: wrapt>=1.0 in /usr/local/lib/python3.10/dist-packages (from formulaic>=0.2.2->lifelines) (1.16.0)\n",
            "Requirement already satisfied: contourpy>=1.0.1 in /usr/local/lib/python3.10/dist-packages (from matplotlib>=3.0->lifelines) (1.3.0)\n",
            "Requirement already satisfied: cycler>=0.10 in /usr/local/lib/python3.10/dist-packages (from matplotlib>=3.0->lifelines) (0.12.1)\n",
            "Requirement already satisfied: fonttools>=4.22.0 in /usr/local/lib/python3.10/dist-packages (from matplotlib>=3.0->lifelines) (4.54.1)\n",
            "Requirement already satisfied: kiwisolver>=1.0.1 in /usr/local/lib/python3.10/dist-packages (from matplotlib>=3.0->lifelines) (1.4.7)\n",
            "Requirement already satisfied: packaging>=20.0 in /usr/local/lib/python3.10/dist-packages (from matplotlib>=3.0->lifelines) (24.2)\n",
            "Requirement already satisfied: pillow>=6.2.0 in /usr/local/lib/python3.10/dist-packages (from matplotlib>=3.0->lifelines) (11.0.0)\n",
            "Requirement already satisfied: pyparsing>=2.3.1 in /usr/local/lib/python3.10/dist-packages (from matplotlib>=3.0->lifelines) (3.2.0)\n",
            "Requirement already satisfied: python-dateutil>=2.7 in /usr/local/lib/python3.10/dist-packages (from matplotlib>=3.0->lifelines) (2.8.2)\n",
            "Requirement already satisfied: pytz>=2020.1 in /usr/local/lib/python3.10/dist-packages (from pandas>=2.1->lifelines) (2024.2)\n",
            "Requirement already satisfied: tzdata>=2022.7 in /usr/local/lib/python3.10/dist-packages (from pandas>=2.1->lifelines) (2024.2)\n",
            "Requirement already satisfied: six>=1.5 in /usr/local/lib/python3.10/dist-packages (from python-dateutil>=2.7->matplotlib>=3.0->lifelines) (1.16.0)\n",
            "Using cached lifelines-0.30.0-py3-none-any.whl (349 kB)\n",
            "Using cached formulaic-1.0.2-py3-none-any.whl (94 kB)\n",
            "Using cached interface_meta-1.3.0-py3-none-any.whl (14 kB)\n",
            "Installing collected packages: interface-meta, autograd-gamma, formulaic, lifelines\n",
            "Successfully installed autograd-gamma-0.5.0 formulaic-1.0.2 interface-meta-1.3.0 lifelines-0.30.0\n"
          ]
        }
      ]
    },
    {
      "cell_type": "code",
      "source": [
        "from lifelines import KaplanMeierFitter\n",
        "import matplotlib.pyplot as plt\n",
        "\n",
        "# Criando o modelo Kaplan-Meier\n",
        "kmf = KaplanMeierFitter()\n",
        "\n",
        "# Ajustando o modelo para a variável 'status' e 'time'\n",
        "kmf.fit(cancer['time'], event_observed=cancer['status'])\n",
        "\n",
        "# Visualizando a curva de Kaplan-Meier para toda a amostra\n",
        "kmf.plot()\n",
        "plt.title(\"Curva de Sobrevivência Kaplan-Meier (Total)\")\n",
        "plt.show()\n",
        "\n",
        "# Para visualizar por sexo, separamos os grupos\n",
        "kmf.fit(cancer['time'][cancer['sex'] == 1], event_observed=cancer['status'][cancer['sex'] == 1], label='Masculino')\n",
        "ax = kmf.plot()\n",
        "\n",
        "kmf.fit(cancer['time'][cancer['sex'] == 2], event_observed=cancer['status'][cancer['sex'] == 2], label='Feminino')\n",
        "kmf.plot(ax=ax)\n",
        "plt.title(\"Curva de Sobrevivência Kaplan-Meier por Sexo\")\n",
        "plt.show()\n"
      ],
      "metadata": {
        "colab": {
          "base_uri": "https://localhost:8080/",
          "height": 927
        },
        "id": "cf0lRhoD-1k2",
        "outputId": "797930fb-2f22-4f2d-fd55-bd0d0b578633"
      },
      "execution_count": 73,
      "outputs": [
        {
          "output_type": "display_data",
          "data": {
            "text/plain": [
              "<Figure size 640x480 with 1 Axes>"
            ],
            "image/png": "[encoded data removed]"
          },
          "metadata": {}
        },
        {
          "output_type": "display_data",
          "data": {
            "text/plain": [
              "<Figure size 640x480 with 1 Axes>"
            ],
            "image/png": "[encoded data removed]"
          },
          "metadata": {}
        }
      ]
    },
    {
      "cell_type": "code",
      "source": [
        "from lifelines import CoxPHFitter\n",
        "\n",
        "# Ajustando o modelo de Cox\n",
        "cph = CoxPHFitter()\n",
        "cph.fit(cancer[['time', 'status', 'age', 'sex', 'meal.cal', 'wt.loss']], duration_col='time', event_col='status')\n",
        "\n",
        "# Exibindo os resultados do modelo de Cox\n",
        "cph.print_summary()\n"
      ],
      "metadata": {
        "colab": {
          "base_uri": "https://localhost:8080/",
          "height": 586
        },
        "id": "Cr5o6Jcm_AiI",
        "outputId": "5feb0763-ad3b-4c05-8991-e2ad3aaee133"
      },
      "execution_count": 75,
      "outputs": [
        {
          "output_type": "display_data",
          "data": {
            "text/plain": [
              "<lifelines.CoxPHFitter: fitted with 167 total observations, 0 right-censored observations>\n",
              "             duration col = 'time'\n",
              "                event col = 'status'\n",
              "      baseline estimation = breslow\n",
              "   number of observations = 167\n",
              "number of events observed = 167\n",
              "   partial log-likelihood = -690.08\n",
              "         time fit was run = 2024-11-13 19:24:41 UTC\n",
              "\n",
              "---\n",
              "           coef exp(coef)  se(coef)  coef lower 95%  coef upper 95% exp(coef) lower 95% exp(coef) upper 95%\n",
              "covariate                                                                                                  \n",
              "age        0.00      1.00      0.01           -0.02            0.02                0.98                1.02\n",
              "sex       -0.20      0.82      0.16           -0.52            0.12                0.59                1.12\n",
              "meal.cal  -0.00      1.00      0.00           -0.00            0.00                1.00                1.00\n",
              "wt.loss   -0.00      1.00      0.01           -0.01            0.01                0.99                1.01\n",
              "\n",
              "           cmp to     z    p  -log2(p)\n",
              "covariate                             \n",
              "age          0.00  0.24 0.81      0.30\n",
              "sex          0.00 -1.25 0.21      2.25\n",
              "meal.cal     0.00 -0.71 0.48      1.06\n",
              "wt.loss      0.00 -0.35 0.73      0.45\n",
              "---\n",
              "Concordance = 0.57\n",
              "Partial AIC = 1388.17\n",
              "log-likelihood ratio test = 2.20 on 4 df\n",
              "-log2(p) of ll-ratio test = 0.52"
            ],
            "text/html": [
              "<div>\n",
              "<style scoped>\n",
              "    .dataframe tbody tr th:only-of-type {\n",
              "        vertical-align: middle;\n",
              "    }\n",
              "\n",
              "    .dataframe tbody tr th {\n",
              "        vertical-align: top;\n",
              "    }\n",
              "\n",
              "    .dataframe thead th {\n",
              "        text-align: right;\n",
              "    }\n",
              "</style>\n",
              "<table border=\"1\" class=\"dataframe\">\n",
              "  <tbody>\n",
              "    <tr>\n",
              "      <th>model</th>\n",
              "      <td>lifelines.CoxPHFitter</td>\n",
              "    </tr>\n",
              "    <tr>\n",
              "      <th>duration col</th>\n",
              "      <td>'time'</td>\n",
              "    </tr>\n",
              "    <tr>\n",
              "      <th>event col</th>\n",
              "      <td>'status'</td>\n",
              "    </tr>\n",
              "    <tr>\n",
              "      <th>baseline estimation</th>\n",
              "      <td>breslow</td>\n",
              "    </tr>\n",
              "    <tr>\n",
              "      <th>number of observations</th>\n",
              "      <td>167</td>\n",
              "    </tr>\n",
              "    <tr>\n",
              "      <th>number of events observed</th>\n",
              "      <td>167</td>\n",
              "    </tr>\n",
              "    <tr>\n",
              "      <th>partial log-likelihood</th>\n",
              "      <td>-690.08</td>\n",
              "    </tr>\n",
              "    <tr>\n",
              "      <th>time fit was run</th>\n",
              "      <td>2024-11-13 19:24:41 UTC</td>\n",
              "    </tr>\n",
              "  </tbody>\n",
              "</table>\n",
              "</div><table border=\"1\" class=\"dataframe\">\n",
              "  <thead>\n",
              "    <tr style=\"text-align: right;\">\n",
              "      <th style=\"min-width: 12px;\"></th>\n",
              "      <th style=\"min-width: 12px;\">coef</th>\n",
              "      <th style=\"min-width: 12px;\">exp(coef)</th>\n",
              "      <th style=\"min-width: 12px;\">se(coef)</th>\n",
              "      <th style=\"min-width: 12px;\">coef lower 95%</th>\n",
              "      <th style=\"min-width: 12px;\">coef upper 95%</th>\n",
              "      <th style=\"min-width: 12px;\">exp(coef) lower 95%</th>\n",
              "      <th style=\"min-width: 12px;\">exp(coef) upper 95%</th>\n",
              "      <th style=\"min-width: 12px;\">cmp to</th>\n",
              "      <th style=\"min-width: 12px;\">z</th>\n",
              "      <th style=\"min-width: 12px;\">p</th>\n",
              "      <th style=\"min-width: 12px;\">-log2(p)</th>\n",
              "    </tr>\n",
              "  </thead>\n",
              "  <tbody>\n",
              "    <tr>\n",
              "      <th>age</th>\n",
              "      <td>0.00</td>\n",
              "      <td>1.00</td>\n",
              "      <td>0.01</td>\n",
              "      <td>-0.02</td>\n",
              "      <td>0.02</td>\n",
              "      <td>0.98</td>\n",
              "      <td>1.02</td>\n",
              "      <td>0.00</td>\n",
              "      <td>0.24</td>\n",
              "      <td>0.81</td>\n",
              "      <td>0.30</td>\n",
              "    </tr>\n",
              "    <tr>\n",
              "      <th>sex</th>\n",
              "      <td>-0.20</td>\n",
              "      <td>0.82</td>\n",
              "      <td>0.16</td>\n",
              "      <td>-0.52</td>\n",
              "      <td>0.12</td>\n",
              "      <td>0.59</td>\n",
              "      <td>1.12</td>\n",
              "      <td>0.00</td>\n",
              "      <td>-1.25</td>\n",
              "      <td>0.21</td>\n",
              "      <td>2.25</td>\n",
              "    </tr>\n",
              "    <tr>\n",
              "      <th>meal.cal</th>\n",
              "      <td>-0.00</td>\n",
              "      <td>1.00</td>\n",
              "      <td>0.00</td>\n",
              "      <td>-0.00</td>\n",
              "      <td>0.00</td>\n",
              "      <td>1.00</td>\n",
              "      <td>1.00</td>\n",
              "      <td>0.00</td>\n",
              "      <td>-0.71</td>\n",
              "      <td>0.48</td>\n",
              "      <td>1.06</td>\n",
              "    </tr>\n",
              "    <tr>\n",
              "      <th>wt.loss</th>\n",
              "      <td>-0.00</td>\n",
              "      <td>1.00</td>\n",
              "      <td>0.01</td>\n",
              "      <td>-0.01</td>\n",
              "      <td>0.01</td>\n",
              "      <td>0.99</td>\n",
              "      <td>1.01</td>\n",
              "      <td>0.00</td>\n",
              "      <td>-0.35</td>\n",
              "      <td>0.73</td>\n",
              "      <td>0.45</td>\n",
              "    </tr>\n",
              "  </tbody>\n",
              "</table><br><div>\n",
              "<style scoped>\n",
              "    .dataframe tbody tr th:only-of-type {\n",
              "        vertical-align: middle;\n",
              "    }\n",
              "\n",
              "    .dataframe tbody tr th {\n",
              "        vertical-align: top;\n",
              "    }\n",
              "\n",
              "    .dataframe thead th {\n",
              "        text-align: right;\n",
              "    }\n",
              "</style>\n",
              "<table border=\"1\" class=\"dataframe\">\n",
              "  <tbody>\n",
              "    <tr>\n",
              "      <th>Concordance</th>\n",
              "      <td>0.57</td>\n",
              "    </tr>\n",
              "    <tr>\n",
              "      <th>Partial AIC</th>\n",
              "      <td>1388.17</td>\n",
              "    </tr>\n",
              "    <tr>\n",
              "      <th>log-likelihood ratio test</th>\n",
              "      <td>2.20 on 4 df</td>\n",
              "    </tr>\n",
              "    <tr>\n",
              "      <th>-log2(p) of ll-ratio test</th>\n",
              "      <td>0.52</td>\n",
              "    </tr>\n",
              "  </tbody>\n",
              "</table>\n",
              "</div>"
            ],
            "text/latex": "\\begin{tabular}{lrrrrrrrrrrr}\n & coef & exp(coef) & se(coef) & coef lower 95% & coef upper 95% & exp(coef) lower 95% & exp(coef) upper 95% & cmp to & z & p & -log2(p) \\\\\ncovariate &  &  &  &  &  &  &  &  &  &  &  \\\\\nage & 0.00 & 1.00 & 0.01 & -0.02 & 0.02 & 0.98 & 1.02 & 0.00 & 0.24 & 0.81 & 0.30 \\\\\nsex & -0.20 & 0.82 & 0.16 & -0.52 & 0.12 & 0.59 & 1.12 & 0.00 & -1.25 & 0.21 & 2.25 \\\\\nmeal.cal & -0.00 & 1.00 & 0.00 & -0.00 & 0.00 & 1.00 & 1.00 & 0.00 & -0.71 & 0.48 & 1.06 \\\\\nwt.loss & -0.00 & 1.00 & 0.01 & -0.01 & 0.01 & 0.99 & 1.01 & 0.00 & -0.35 & 0.73 & 0.45 \\\\\n\\end{tabular}\n"
          },
          "metadata": {}
        }
      ]
    },
    {
      "cell_type": "code",
      "source": [
        "from lifelines import WeibullAFTFitter\n",
        "\n",
        "# Ajustando o modelo Weibull\n",
        "aft = WeibullAFTFitter()\n",
        "aft.fit(cancer[['time', 'status', 'age', 'sex', 'meal.cal', 'wt.loss']], duration_col='time', event_col='status')\n",
        "\n",
        "# Exibindo os resultados do modelo Weibull\n",
        "aft.print_summary()\n"
      ],
      "metadata": {
        "colab": {
          "base_uri": "https://localhost:8080/",
          "height": 635
        },
        "id": "OYgjw1jH_Imy",
        "outputId": "7dab307e-e42a-4a01-890e-b7ce2f3aa6e8"
      },
      "execution_count": 84,
      "outputs": [
        {
          "output_type": "display_data",
          "data": {
            "text/plain": [
              "<lifelines.WeibullAFTFitter: fitted with 167 total observations, 0 right-censored observations>\n",
              "             duration col = 'time'\n",
              "                event col = 'status'\n",
              "   number of observations = 167\n",
              "number of events observed = 167\n",
              "           log-likelihood = -1105.56\n",
              "         time fit was run = 2024-11-13 19:25:51 UTC\n",
              "\n",
              "---\n",
              "                   coef exp(coef)  se(coef)  coef lower 95%  coef upper 95% exp(coef) lower 95% exp(coef) upper 95%\n",
              "param   covariate                                                                                                  \n",
              "lambda_ age       -0.00      1.00      0.01           -0.01            0.01                0.99                1.01\n",
              "        meal.cal   0.00      1.00      0.00           -0.00            0.00                1.00                1.00\n",
              "        sex        0.14      1.15      0.11           -0.07            0.35                0.93                1.42\n",
              "        wt.loss    0.00      1.00      0.00           -0.01            0.01                0.99                1.01\n",
              "        Intercept  5.62    274.68      0.49            4.66            6.57              105.57              714.67\n",
              "rho_    Intercept  0.40      1.50      0.06            0.29            0.52                1.33                1.69\n",
              "\n",
              "                   cmp to     z      p  -log2(p)\n",
              "param   covariate                               \n",
              "lambda_ age          0.00 -0.29   0.77      0.37\n",
              "        meal.cal     0.00  0.87   0.38      1.38\n",
              "        sex          0.00  1.30   0.19      2.36\n",
              "        wt.loss      0.00  0.36   0.72      0.48\n",
              "        Intercept    0.00 11.51 <0.005     99.43\n",
              "rho_    Intercept    0.00  6.70 <0.005     35.53\n",
              "---\n",
              "Concordance = 0.56\n",
              "AIC = 2223.12\n",
              "log-likelihood ratio test = 2.67 on 4 df\n",
              "-log2(p) of ll-ratio test = 0.70"
            ],
            "text/html": [
              "<div>\n",
              "<style scoped>\n",
              "    .dataframe tbody tr th:only-of-type {\n",
              "        vertical-align: middle;\n",
              "    }\n",
              "\n",
              "    .dataframe tbody tr th {\n",
              "        vertical-align: top;\n",
              "    }\n",
              "\n",
              "    .dataframe thead th {\n",
              "        text-align: right;\n",
              "    }\n",
              "</style>\n",
              "<table border=\"1\" class=\"dataframe\">\n",
              "  <tbody>\n",
              "    <tr>\n",
              "      <th>model</th>\n",
              "      <td>lifelines.WeibullAFTFitter</td>\n",
              "    </tr>\n",
              "    <tr>\n",
              "      <th>duration col</th>\n",
              "      <td>'time'</td>\n",
              "    </tr>\n",
              "    <tr>\n",
              "      <th>event col</th>\n",
              "      <td>'status'</td>\n",
              "    </tr>\n",
              "    <tr>\n",
              "      <th>number of observations</th>\n",
              "      <td>167</td>\n",
              "    </tr>\n",
              "    <tr>\n",
              "      <th>number of events observed</th>\n",
              "      <td>167</td>\n",
              "    </tr>\n",
              "    <tr>\n",
              "      <th>log-likelihood</th>\n",
              "      <td>-1105.56</td>\n",
              "    </tr>\n",
              "    <tr>\n",
              "      <th>time fit was run</th>\n",
              "      <td>2024-11-13 19:25:51 UTC</td>\n",
              "    </tr>\n",
              "  </tbody>\n",
              "</table>\n",
              "</div><table border=\"1\" class=\"dataframe\">\n",
              "  <thead>\n",
              "    <tr style=\"text-align: right;\">\n",
              "      <th style=\"min-width: 12px;\"></th>\n",
              "      <th style=\"min-width: 12px;\"></th>\n",
              "      <th style=\"min-width: 12px;\">coef</th>\n",
              "      <th style=\"min-width: 12px;\">exp(coef)</th>\n",
              "      <th style=\"min-width: 12px;\">se(coef)</th>\n",
              "      <th style=\"min-width: 12px;\">coef lower 95%</th>\n",
              "      <th style=\"min-width: 12px;\">coef upper 95%</th>\n",
              "      <th style=\"min-width: 12px;\">exp(coef) lower 95%</th>\n",
              "      <th style=\"min-width: 12px;\">exp(coef) upper 95%</th>\n",
              "      <th style=\"min-width: 12px;\">cmp to</th>\n",
              "      <th style=\"min-width: 12px;\">z</th>\n",
              "      <th style=\"min-width: 12px;\">p</th>\n",
              "      <th style=\"min-width: 12px;\">-log2(p)</th>\n",
              "    </tr>\n",
              "  </thead>\n",
              "  <tbody>\n",
              "    <tr>\n",
              "      <th rowspan=\"5\" valign=\"top\">lambda_</th>\n",
              "      <th>age</th>\n",
              "      <td>-0.00</td>\n",
              "      <td>1.00</td>\n",
              "      <td>0.01</td>\n",
              "      <td>-0.01</td>\n",
              "      <td>0.01</td>\n",
              "      <td>0.99</td>\n",
              "      <td>1.01</td>\n",
              "      <td>0.00</td>\n",
              "      <td>-0.29</td>\n",
              "      <td>0.77</td>\n",
              "      <td>0.37</td>\n",
              "    </tr>\n",
              "    <tr>\n",
              "      <th>meal.cal</th>\n",
              "      <td>0.00</td>\n",
              "      <td>1.00</td>\n",
              "      <td>0.00</td>\n",
              "      <td>-0.00</td>\n",
              "      <td>0.00</td>\n",
              "      <td>1.00</td>\n",
              "      <td>1.00</td>\n",
              "      <td>0.00</td>\n",
              "      <td>0.87</td>\n",
              "      <td>0.38</td>\n",
              "      <td>1.38</td>\n",
              "    </tr>\n",
              "    <tr>\n",
              "      <th>sex</th>\n",
              "      <td>0.14</td>\n",
              "      <td>1.15</td>\n",
              "      <td>0.11</td>\n",
              "      <td>-0.07</td>\n",
              "      <td>0.35</td>\n",
              "      <td>0.93</td>\n",
              "      <td>1.42</td>\n",
              "      <td>0.00</td>\n",
              "      <td>1.30</td>\n",
              "      <td>0.19</td>\n",
              "      <td>2.36</td>\n",
              "    </tr>\n",
              "    <tr>\n",
              "      <th>wt.loss</th>\n",
              "      <td>0.00</td>\n",
              "      <td>1.00</td>\n",
              "      <td>0.00</td>\n",
              "      <td>-0.01</td>\n",
              "      <td>0.01</td>\n",
              "      <td>0.99</td>\n",
              "      <td>1.01</td>\n",
              "      <td>0.00</td>\n",
              "      <td>0.36</td>\n",
              "      <td>0.72</td>\n",
              "      <td>0.48</td>\n",
              "    </tr>\n",
              "    <tr>\n",
              "      <th>Intercept</th>\n",
              "      <td>5.62</td>\n",
              "      <td>274.68</td>\n",
              "      <td>0.49</td>\n",
              "      <td>4.66</td>\n",
              "      <td>6.57</td>\n",
              "      <td>105.57</td>\n",
              "      <td>714.67</td>\n",
              "      <td>0.00</td>\n",
              "      <td>11.51</td>\n",
              "      <td>&lt;0.005</td>\n",
              "      <td>99.43</td>\n",
              "    </tr>\n",
              "    <tr>\n",
              "      <th>rho_</th>\n",
              "      <th>Intercept</th>\n",
              "      <td>0.40</td>\n",
              "      <td>1.50</td>\n",
              "      <td>0.06</td>\n",
              "      <td>0.29</td>\n",
              "      <td>0.52</td>\n",
              "      <td>1.33</td>\n",
              "      <td>1.69</td>\n",
              "      <td>0.00</td>\n",
              "      <td>6.70</td>\n",
              "      <td>&lt;0.005</td>\n",
              "      <td>35.53</td>\n",
              "    </tr>\n",
              "  </tbody>\n",
              "</table><br><div>\n",
              "<style scoped>\n",
              "    .dataframe tbody tr th:only-of-type {\n",
              "        vertical-align: middle;\n",
              "    }\n",
              "\n",
              "    .dataframe tbody tr th {\n",
              "        vertical-align: top;\n",
              "    }\n",
              "\n",
              "    .dataframe thead th {\n",
              "        text-align: right;\n",
              "    }\n",
              "</style>\n",
              "<table border=\"1\" class=\"dataframe\">\n",
              "  <tbody>\n",
              "    <tr>\n",
              "      <th>Concordance</th>\n",
              "      <td>0.56</td>\n",
              "    </tr>\n",
              "    <tr>\n",
              "      <th>AIC</th>\n",
              "      <td>2223.12</td>\n",
              "    </tr>\n",
              "    <tr>\n",
              "      <th>log-likelihood ratio test</th>\n",
              "      <td>2.67 on 4 df</td>\n",
              "    </tr>\n",
              "    <tr>\n",
              "      <th>-log2(p) of ll-ratio test</th>\n",
              "      <td>0.70</td>\n",
              "    </tr>\n",
              "  </tbody>\n",
              "</table>\n",
              "</div>"
            ],
            "text/latex": "\\begin{tabular}{llrrrrrrrrrrr}\n &  & coef & exp(coef) & se(coef) & coef lower 95% & coef upper 95% & exp(coef) lower 95% & exp(coef) upper 95% & cmp to & z & p & -log2(p) \\\\\nparam & covariate &  &  &  &  &  &  &  &  &  &  &  \\\\\n\\multirow[c]{5}{*}{lambda_} & age & -0.00 & 1.00 & 0.01 & -0.01 & 0.01 & 0.99 & 1.01 & 0.00 & -0.29 & 0.77 & 0.37 \\\\\n & meal.cal & 0.00 & 1.00 & 0.00 & -0.00 & 0.00 & 1.00 & 1.00 & 0.00 & 0.87 & 0.38 & 1.38 \\\\\n & sex & 0.14 & 1.15 & 0.11 & -0.07 & 0.35 & 0.93 & 1.42 & 0.00 & 1.30 & 0.19 & 2.36 \\\\\n & wt.loss & 0.00 & 1.00 & 0.00 & -0.01 & 0.01 & 0.99 & 1.01 & 0.00 & 0.36 & 0.72 & 0.48 \\\\\n & Intercept & 5.62 & 274.68 & 0.49 & 4.66 & 6.57 & 105.57 & 714.67 & 0.00 & 11.51 & 0.00 & 99.43 \\\\\nrho_ & Intercept & 0.40 & 1.50 & 0.06 & 0.29 & 0.52 & 1.33 & 1.69 & 0.00 & 6.70 & 0.00 & 35.53 \\\\\n\\end{tabular}\n"
          },
          "metadata": {}
        }
      ]
    },
    {
      "cell_type": "code",
      "source": [
        "cph.plot()\n",
        "plt.title(\"Curvas de Sobrevivência Ajustadas pelo Modelo de Cox\")\n",
        "plt.show()\n"
      ],
      "metadata": {
        "colab": {
          "base_uri": "https://localhost:8080/",
          "height": 472
        },
        "id": "JLgpqt4Z_arO",
        "outputId": "d5312b84-4407-4a68-9191-cc92a825bfdf"
      },
      "execution_count": 100,
      "outputs": [
        {
          "output_type": "display_data",
          "data": {
            "text/plain": [
              "<Figure size 640x480 with 1 Axes>"
            ],
            "image/png": "[encoded data removed]"
          },
          "metadata": {}
        }
      ]
    },
    {
      "cell_type": "code",
      "source": [
        "aft.plot()\n",
        "plt.title(\"Curvas de Sobrevivência Ajustadas pelo Modelo Weibull\")\n",
        "plt.show()\n"
      ],
      "metadata": {
        "colab": {
          "base_uri": "https://localhost:8080/",
          "height": 472
        },
        "id": "Ym0EP47U_yYV",
        "outputId": "8b347771-897c-4280-83eb-e57a5d4fe641"
      },
      "execution_count": 106,
      "outputs": [
        {
          "output_type": "display_data",
          "data": {
            "text/plain": [
              "<Figure size 640x480 with 1 Axes>"
            ],
            "image/png": "[encoded data removed]"
          },
          "metadata": {}
        }
      ]
    },
    {
      "cell_type": "code",
      "source": [
        "# Exibir o resumo completo do modelo de Cox\n",
        "cox_summary = cph.summary\n",
        "print(cox_summary.columns)  # Exibe as colunas do resumo\n",
        "\n",
        "# Exibir as primeiras linhas do resumo para verificar os nomes das colunas\n",
        "print(cox_summary.head())\n"
      ],
      "metadata": {
        "colab": {
          "base_uri": "https://localhost:8080/"
        },
        "id": "BFzhLad_GTvP",
        "outputId": "5fe325b9-03ba-4deb-ff57-878a9f0cafc9"
      },
      "execution_count": 125,
      "outputs": [
        {
          "output_type": "stream",
          "name": "stdout",
          "text": [
            "Index(['coef', 'exp(coef)', 'se(coef)', 'coef lower 95%', 'coef upper 95%',\n",
            "       'exp(coef) lower 95%', 'exp(coef) upper 95%', 'cmp to', 'z', 'p',\n",
            "       '-log2(p)'],\n",
            "      dtype='object')\n",
            "               coef  exp(coef)  se(coef)  coef lower 95%  coef upper 95%  \\\n",
            "covariate                                                                  \n",
            "age        0.002187   1.002190  0.009194       -0.015832        0.020207   \n",
            "sex       -0.204072   0.815403  0.162996       -0.523538        0.115394   \n",
            "meal.cal  -0.000153   0.999847  0.000217       -0.000579        0.000273   \n",
            "wt.loss   -0.002043   0.997959  0.005916       -0.013639        0.009552   \n",
            "\n",
            "           exp(coef) lower 95%  exp(coef) upper 95%  cmp to         z  \\\n",
            "covariate                                                               \n",
            "age                   0.984292             1.020412     0.0  0.237891   \n",
            "sex                   0.592421             1.122315     0.0 -1.252009   \n",
            "meal.cal              0.999421             1.000273     0.0 -0.705905   \n",
            "wt.loss               0.986454             1.009598     0.0 -0.345349   \n",
            "\n",
            "                  p  -log2(p)  \n",
            "covariate                      \n",
            "age        0.811966  0.300509  \n",
            "sex        0.210567  2.247651  \n",
            "meal.cal   0.480247  1.058151  \n",
            "wt.loss    0.729832  0.454364  \n"
          ]
        }
      ]
    },
    {
      "cell_type": "code",
      "source": [
        "# Supondo que os nomes das colunas sejam diferentes, por exemplo:\n",
        "# 'exp(coef) lower 95%' e 'exp(coef) upper 95%'\n",
        "\n",
        "for index, row in cox_summary.iterrows():\n",
        "    var_name = index\n",
        "    hr = row['exp(coef)']\n",
        "    ci_lower = row['exp(coef) lower 95%']  # Ajuste o nome da coluna aqui\n",
        "    ci_upper = row['exp(coef) upper 95%']  # Ajuste o nome da coluna aqui\n",
        "\n",
        "    print(f'Variável: {var_name}')\n",
        "    print(f'Razão de risco (HR): {hr:.2f}')\n",
        "    print(f'Intervalo de Confiança 95%: [{ci_lower:.2f}, {ci_upper:.2f}]')\n",
        "\n",
        "    # Interpretação\n",
        "    if hr > 1:\n",
        "        print(\"A variável está associada a um maior risco de morte.\")\n",
        "    elif hr < 1:\n",
        "        print(\"A variável está associada a um menor risco de morte.\")\n",
        "    else:\n",
        "        print(\"A variável não tem efeito sobre o risco de morte.\")\n",
        "\n",
        "    print(\"-\" * 50)\n"
      ],
      "metadata": {
        "colab": {
          "base_uri": "https://localhost:8080/"
        },
        "id": "Gv_FRssmEaUd",
        "outputId": "d38a3e7a-96ba-4e6c-a9d9-bebf6405703d"
      },
      "execution_count": 124,
      "outputs": [
        {
          "output_type": "stream",
          "name": "stdout",
          "text": [
            "Variável: age\n",
            "Razão de risco (HR): 1.00\n",
            "Intervalo de Confiança 95%: [0.98, 1.02]\n",
            "A variável está associada a um maior risco de morte.\n",
            "--------------------------------------------------\n",
            "Variável: sex\n",
            "Razão de risco (HR): 0.82\n",
            "Intervalo de Confiança 95%: [0.59, 1.12]\n",
            "A variável está associada a um menor risco de morte.\n",
            "--------------------------------------------------\n",
            "Variável: meal.cal\n",
            "Razão de risco (HR): 1.00\n",
            "Intervalo de Confiança 95%: [1.00, 1.00]\n",
            "A variável está associada a um menor risco de morte.\n",
            "--------------------------------------------------\n",
            "Variável: wt.loss\n",
            "Razão de risco (HR): 1.00\n",
            "Intervalo de Confiança 95%: [0.99, 1.01]\n",
            "A variável está associada a um menor risco de morte.\n",
            "--------------------------------------------------\n"
          ]
        }
      ]
    },
    {
      "cell_type": "code",
      "source": [
        "print(data.columns)  # Exibe os nomes de todas as colunas em seu DataFrame\n",
        "\n"
      ],
      "metadata": {
        "colab": {
          "base_uri": "https://localhost:8080/"
        },
        "id": "OnOy_al4avh9",
        "outputId": "5a4eeaa1-cc28-4aaf-fbcc-29aaae950a25"
      },
      "execution_count": 148,
      "outputs": [
        {
          "output_type": "stream",
          "name": "stdout",
          "text": [
            "Index(['inst', 'time', 'status', 'age', 'sex', 'ph.ecog', 'ph.karno',\n",
            "       'pat.karno', 'meal.cal', 'wt.loss'],\n",
            "      dtype='object')\n"
          ]
        }
      ]
    },
    {
      "cell_type": "code",
      "source": [
        "print(data.isnull().sum())\n",
        "\n"
      ],
      "metadata": {
        "colab": {
          "base_uri": "https://localhost:8080/"
        },
        "id": "tjgo-QK7gBAJ",
        "outputId": "1a97e148-337d-42d5-b675-761361b6e7ad"
      },
      "execution_count": 150,
      "outputs": [
        {
          "output_type": "stream",
          "name": "stdout",
          "text": [
            "inst          1\n",
            "time          0\n",
            "status        0\n",
            "age           0\n",
            "sex           0\n",
            "ph.ecog       1\n",
            "ph.karno      1\n",
            "pat.karno     3\n",
            "meal.cal     47\n",
            "wt.loss      14\n",
            "dtype: int64\n"
          ]
        }
      ]
    },
    {
      "cell_type": "code",
      "source": [
        "data = data.dropna()\n"
      ],
      "metadata": {
        "id": "5CjTqnrugdfB"
      },
      "execution_count": 151,
      "outputs": []
    },
    {
      "cell_type": "code",
      "source": [
        "data = data.fillna(data.mean())\n"
      ],
      "metadata": {
        "id": "IO8__JlRgxO8"
      },
      "execution_count": 153,
      "outputs": []
    },
    {
      "cell_type": "code",
      "source": [
        "weibull_model.fit(data, duration_col='time', event_col='status')\n"
      ],
      "metadata": {
        "colab": {
          "base_uri": "https://localhost:8080/"
        },
        "id": "DzUFPTiog4v_",
        "outputId": "0f774f2b-6e69-4030-e3a9-48e45133667c"
      },
      "execution_count": 154,
      "outputs": [
        {
          "output_type": "execute_result",
          "data": {
            "text/plain": [
              "<lifelines.WeibullAFTFitter: fitted with 167 total observations, 0 right-censored observations>"
            ]
          },
          "metadata": {},
          "execution_count": 154
        }
      ]
    },
    {
      "cell_type": "code",
      "source": [
        "# Verifique os nomes das colunas e ajuste conforme necessário\n",
        "duration_col = 'time'  # Substitua 'time' pelo nome correto da coluna de duração no seu DataFrame\n",
        "event_col = 'status'   # Substitua 'status' pelo nome correto da coluna de evento no seu DataFrame\n",
        "\n",
        "# Ajuste o modelo de Weibull\n",
        "weibull_model = WeibullAFTFitter()\n",
        "weibull_model.fit(data, duration_col=duration_col, event_col=event_col)\n",
        "\n",
        "# Exibir o resumo do modelo de Weibull\n",
        "print(weibull_model.summary)\n"
      ],
      "metadata": {
        "colab": {
          "base_uri": "https://localhost:8080/"
        },
        "id": "ArGfnV1tiWgG",
        "outputId": "344fbe80-270c-4eba-e0c0-a5f3ec0608bc"
      },
      "execution_count": 157,
      "outputs": [
        {
          "output_type": "stream",
          "name": "stdout",
          "text": [
            "Index(['coef', 'exp(coef)', 'se(coef)', 'coef lower 95%', 'coef upper 95%',\n",
            "       'exp(coef) lower 95%', 'exp(coef) upper 95%', 'cmp to', 'z', 'p',\n",
            "       '-log2(p)'],\n",
            "      dtype='object')\n",
            "                       coef  exp(coef)  se(coef)  coef lower 95%  \\\n",
            "param   covariate                                                  \n",
            "lambda_ age       -0.000612   0.999389  0.006174       -0.012712   \n",
            "        inst       0.007705   1.007735  0.006872       -0.005763   \n",
            "        meal.cal   0.000088   1.000088  0.000146       -0.000199   \n",
            "        pat.karno  0.005445   1.005460  0.004442       -0.003261   \n",
            "        ph.ecog   -0.353626   0.702138  0.125438       -0.599479   \n",
            "\n",
            "                   coef upper 95%  exp(coef) lower 95%  exp(coef) upper 95%  \\\n",
            "param   covariate                                                             \n",
            "lambda_ age              0.011489             0.987368             1.011555   \n",
            "        inst             0.021173             0.994254             1.021399   \n",
            "        meal.cal         0.000375             0.999801             1.000375   \n",
            "        pat.karno        0.014151             0.996745             1.014252   \n",
            "        ph.ecog         -0.107772             0.549098             0.897832   \n",
            "\n",
            "                   cmp to         z         p  -log2(p)  \n",
            "param   covariate                                        \n",
            "lambda_ age           0.0 -0.099068  0.921085  0.118595  \n",
            "        inst          0.0  1.121351  0.262139  1.931599  \n",
            "        meal.cal      0.0  0.603804  0.545974  0.873095  \n",
            "        pat.karno     0.0  1.225874  0.220246  2.182812  \n",
            "        ph.ecog       0.0 -2.819135  0.004815  7.698149  \n"
          ]
        }
      ]
    },
    {
      "cell_type": "markdown",
      "source": [],
      "metadata": {
        "id": "sNyBdPhAkwXT"
      }
    },
    {
      "cell_type": "code",
      "source": [
        "# Acessar o resumo do modelo de Weibull\n",
        "weibull_summary = weibull_model.summary\n",
        "\n",
        "# Iterar pelas variáveis no resumo e exibir as informações\n",
        "for index, row in weibull_summary.iterrows():\n",
        "    var_name = index\n",
        "    coef = row['coef']  # Coeficiente estimado para a variável\n",
        "    ci_lower = row['coef lower 95%']  # Limite inferior do intervalo de confiança\n",
        "    ci_upper = row['coef upper 95%']  # Limite superior do intervalo de confiança\n",
        "\n",
        "    # Exibindo as informações\n",
        "    print(f'Variável: {var_name}')\n",
        "    print(f'Coeficiente estimado: {coef:.2f}')\n",
        "    print(f'Intervalo de Confiança 95%: [{ci_lower:.2f}, {ci_upper:.2f}]')\n",
        "\n",
        "    # Interpretação do coeficiente\n",
        "    if coef > 0:\n",
        "        print(\"A variável está associada a um aumento no tempo de sobrevivência.\")\n",
        "    elif coef < 0:\n",
        "        print(\"A variável está associada a uma diminuição no tempo de sobrevivência.\")\n",
        "    else:\n",
        "        print(\"A variável não tem efeito sobre o tempo de sobrevivência.\")\n",
        "\n",
        "    print(\"-\" * 50)\n"
      ],
      "metadata": {
        "colab": {
          "base_uri": "https://localhost:8080/"
        },
        "id": "B63haCowk4Tu",
        "outputId": "1db61000-5c30-4b38-95d6-9fa46a6f2aa5"
      },
      "execution_count": 166,
      "outputs": [
        {
          "output_type": "stream",
          "name": "stdout",
          "text": [
            "Variável: ('lambda_', 'age')\n",
            "Coeficiente estimado: -0.00\n",
            "Intervalo de Confiança 95%: [-0.01, 0.01]\n",
            "A variável está associada a uma diminuição no tempo de sobrevivência.\n",
            "--------------------------------------------------\n",
            "Variável: ('lambda_', 'inst')\n",
            "Coeficiente estimado: 0.01\n",
            "Intervalo de Confiança 95%: [-0.01, 0.02]\n",
            "A variável está associada a um aumento no tempo de sobrevivência.\n",
            "--------------------------------------------------\n",
            "Variável: ('lambda_', 'meal.cal')\n",
            "Coeficiente estimado: 0.00\n",
            "Intervalo de Confiança 95%: [-0.00, 0.00]\n",
            "A variável está associada a um aumento no tempo de sobrevivência.\n",
            "--------------------------------------------------\n",
            "Variável: ('lambda_', 'pat.karno')\n",
            "Coeficiente estimado: 0.01\n",
            "Intervalo de Confiança 95%: [-0.00, 0.01]\n",
            "A variável está associada a um aumento no tempo de sobrevivência.\n",
            "--------------------------------------------------\n",
            "Variável: ('lambda_', 'ph.ecog')\n",
            "Coeficiente estimado: -0.35\n",
            "Intervalo de Confiança 95%: [-0.60, -0.11]\n",
            "A variável está associada a uma diminuição no tempo de sobrevivência.\n",
            "--------------------------------------------------\n",
            "Variável: ('lambda_', 'ph.karno')\n",
            "Coeficiente estimado: -0.01\n",
            "Intervalo de Confiança 95%: [-0.02, -0.00]\n",
            "A variável está associada a uma diminuição no tempo de sobrevivência.\n",
            "--------------------------------------------------\n",
            "Variável: ('lambda_', 'sex')\n",
            "Coeficiente estimado: 0.16\n",
            "Intervalo de Confiança 95%: [-0.04, 0.37]\n",
            "A variável está associada a um aumento no tempo de sobrevivência.\n",
            "--------------------------------------------------\n",
            "Variável: ('lambda_', 'wt.loss')\n",
            "Coeficiente estimado: 0.01\n",
            "Intervalo de Confiança 95%: [-0.00, 0.02]\n",
            "A variável está associada a um aumento no tempo de sobrevivência.\n",
            "--------------------------------------------------\n",
            "Variável: ('lambda_', 'Intercept')\n",
            "Coeficiente estimado: 6.34\n",
            "Intervalo de Confiança 95%: [4.67, 8.02]\n",
            "A variável está associada a um aumento no tempo de sobrevivência.\n",
            "--------------------------------------------------\n",
            "Variável: ('rho_', 'Intercept')\n",
            "Coeficiente estimado: 0.45\n",
            "Intervalo de Confiança 95%: [0.33, 0.56]\n",
            "A variável está associada a um aumento no tempo de sobrevivência.\n",
            "--------------------------------------------------\n"
          ]
        }
      ]
    }
  ],
  "metadata": {
    "colab": {
      "name": "Olá, este é o Colaboratory",
      "toc_visible": true,
      "provenance": []
    },
    "kernelspec": {
      "display_name": "Python 3",
      "name": "python3"
    }
  },
  "nbformat": 4,
  "nbformat_minor": 0
}